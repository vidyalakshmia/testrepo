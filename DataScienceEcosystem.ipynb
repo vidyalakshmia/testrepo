{
 "cells": [
  {
   "cell_type": "markdown",
   "id": "83b27990",
   "metadata": {},
   "source": [
    "# Data Science Tools and Ecosystem"
   ]
  },
  {
   "cell_type": "markdown",
   "id": "3b60bb3e",
   "metadata": {},
   "source": [
    "In this notebook, Data Science Tools and Ecosystem are summarized."
   ]
  },
  {
   "cell_type": "markdown",
   "id": "daa6e9f4",
   "metadata": {},
   "source": [
    "**Objectives:**\n",
    "\n",
    "- List popular languages for Data Science.\n",
    "- Identify commonly used libraries in Data Science.\n",
    "- Describe development environment open-source tools.\n",
    "- Convert minutes to hours using a Python expression.\n",
    "- Create Markdown cells in Jupyter Notebook."
   ]
  },
  {
   "cell_type": "markdown",
   "id": "f2716a2d",
   "metadata": {},
   "source": [
    "Some of the popular languages that Data Scientists use are:\n",
    "1. Python\n",
    "2. R\n",
    "3. SQL\n",
    "4. MATLAB"
   ]
  },
  {
   "cell_type": "markdown",
   "id": "8f44aee0",
   "metadata": {},
   "source": [
    "Some of the commonly used libraries used by Data Scientists include:\n",
    "1. Pandas - Data manipulation and analysis, particularly with tabular data (DataFrames).\n",
    "2. NumPy - Support for large, multi-dimensional arrays and matrices, along with a collection of mathematical functions.\n",
    "3. Matplotlib - Data visualization for creating static, animated, and interactive plots.\n",
    "4. Seaborn - Statistical data visualization built on top of Matplotlib, offering easier-to-use high-level interfaces.\n",
    "5. Scikit-learn - Machine learning library with tools for classification, regression, clustering, and dimensionality reduction.\n",
    "6. TensorFlow - Open-source machine learning and deep learning framework developed by Google.\n",
    "7. Plotly - Interactive graphing library, often used for creating dashboards and web-based visualizations."
   ]
  },
  {
   "cell_type": "markdown",
   "id": "79c1a70c",
   "metadata": {},
   "source": [
    "## Table in markdown cell\n",
    "\n",
    "| Data Science Tools | \n",
    "| -------------| \n",
    "| Jupyter Notebook | \n",
    "| RStudio | \n",
    "| VS Code | "
   ]
  },
  {
   "cell_type": "markdown",
   "id": "0f597540",
   "metadata": {},
   "source": [
    "### Below are a few examples of evaluating arithmetic expressions in Python"
   ]
  },
  {
   "cell_type": "markdown",
   "id": "3e461acb",
   "metadata": {},
   "source": [
    " This a simple arithmetic expression to mutiply then add integers."
   ]
  },
  {
   "cell_type": "code",
   "execution_count": 1,
   "id": "8846cfc2",
   "metadata": {},
   "outputs": [
    {
     "data": {
      "text/plain": [
       "17"
      ]
     },
     "execution_count": 1,
     "metadata": {},
     "output_type": "execute_result"
    }
   ],
   "source": [
    "(3*4)+5"
   ]
  },
  {
   "cell_type": "code",
   "execution_count": 2,
   "id": "3b3ceb3b",
   "metadata": {},
   "outputs": [
    {
     "data": {
      "text/plain": [
       "3.3333333333333335"
      ]
     },
     "execution_count": 2,
     "metadata": {},
     "output_type": "execute_result"
    }
   ],
   "source": [
    "# This will convert 200 minutes to hours by diving by 60.\n",
    "minutes = 200\n",
    "hours = minutes / 60\n",
    "hours"
   ]
  },
  {
   "cell_type": "markdown",
   "id": "cd5666b8",
   "metadata": {},
   "source": [
    "## Author \n",
    "Vidyalakshmi"
   ]
  },
  {
   "cell_type": "code",
   "execution_count": null,
   "id": "29029693",
   "metadata": {},
   "outputs": [],
   "source": []
  }
 ],
 "metadata": {
  "kernelspec": {
   "display_name": "Python 3 (ipykernel)",
   "language": "python",
   "name": "python3"
  },
  "language_info": {
   "codemirror_mode": {
    "name": "ipython",
    "version": 3
   },
   "file_extension": ".py",
   "mimetype": "text/x-python",
   "name": "python",
   "nbconvert_exporter": "python",
   "pygments_lexer": "ipython3",
   "version": "3.9.13"
  }
 },
 "nbformat": 4,
 "nbformat_minor": 5
}
